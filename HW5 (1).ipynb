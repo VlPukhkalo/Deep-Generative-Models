{
  "nbformat": 4,
  "nbformat_minor": 0,
  "metadata": {
    "colab": {
      "provenance": [],
      "gpuType": "T4"
    },
    "kernelspec": {
      "name": "python3",
      "display_name": "Python 3"
    },
    "language_info": {
      "name": "python"
    },
    "accelerator": "GPU"
  },
  "cells": [
    {
      "cell_type": "markdown",
      "source": [
        "# ДЗ 5. Обучение поющей speech-to-speech модели so-VITS-svc\n",
        "### Пухкало Влада"
      ],
      "metadata": {
        "id": "m0U8jjBRPyF8"
      }
    },
    {
      "cell_type": "markdown",
      "source": [
        "## Подготовка данных"
      ],
      "metadata": {
        "id": "GTlsWE-BP-MK"
      }
    },
    {
      "cell_type": "code",
      "source": [
        "!pip install numpy\n",
        "!pip install librosa\n",
        "!pip install soundfile"
      ],
      "metadata": {
        "id": "b484hJ6UYiMO"
      },
      "execution_count": null,
      "outputs": []
    },
    {
      "cell_type": "code",
      "source": [
        "!git clone https://github.com/openvpi/audio-slicer.git"
      ],
      "metadata": {
        "id": "LoRcIW7bd9mD"
      },
      "execution_count": null,
      "outputs": []
    },
    {
      "cell_type": "code",
      "source": [
        "import sys\n",
        "import os\n",
        "\n",
        "%cd /content/audio-slicer\n",
        "\n",
        "sys.path.append(os.getcwd())"
      ],
      "metadata": {
        "colab": {
          "base_uri": "https://localhost:8080/"
        },
        "id": "4XL2sagYftyl",
        "outputId": "522e85c1-69e0-4c33-c78a-513c54c505ed"
      },
      "execution_count": 3,
      "outputs": [
        {
          "output_type": "stream",
          "name": "stdout",
          "text": [
            "/content/audio-slicer\n"
          ]
        }
      ]
    },
    {
      "cell_type": "code",
      "source": [
        "import os\n",
        "import librosa\n",
        "import soundfile as sf\n",
        "from slicer2 import Slicer\n",
        "\n",
        "# Убедитесь, что директория для сохранения нарезанных аудиофайлов существует\n",
        "output_dir = '/content/dataset_raw/skrip'\n",
        "os.makedirs(output_dir, exist_ok=True)\n",
        "\n",
        "# Путь к папке с аудиофайлами\n",
        "vocal_scrip_dir = '/content/vocal_scrip'\n",
        "\n",
        "# Инициализация счетчика для уникальных имен файлов\n",
        "file_counter = 1\n",
        "\n",
        "# Перебор всех файлов в папке\n",
        "for filename in os.listdir(vocal_scrip_dir):\n",
        "    if filename.endswith('.wav'):\n",
        "        # Полный путь к аудиофайлу\n",
        "        file_path = os.path.join(vocal_scrip_dir, filename)\n",
        "\n",
        "        # Загрузка аудиофайла\n",
        "        audio, sr = librosa.load(file_path, sr=None, mono=False)\n",
        "\n",
        "        # Настройка и использование Slicer\n",
        "        slicer = Slicer(\n",
        "            sr=sr,\n",
        "            threshold=-40,\n",
        "            min_length=15000,\n",
        "            min_interval=100,\n",
        "            hop_size=10,\n",
        "            max_sil_kept=500\n",
        "        )\n",
        "        chunks = slicer.slice(audio)\n",
        "\n",
        "        # Сохранение нарезанных аудиофайлов\n",
        "        for chunk in chunks:\n",
        "            if len(chunk.shape) > 1:\n",
        "                chunk = chunk.T  # Swap axes if the audio is stereo.\n",
        "            output_path = os.path.join(output_dir, f'{file_counter:06}.wav')\n",
        "            print(f\"Saving chunk to {output_path}\")\n",
        "            sf.write(output_path, chunk, sr)\n",
        "            file_counter += 1"
      ],
      "metadata": {
        "id": "EteGq7ED0elI"
      },
      "execution_count": null,
      "outputs": []
    },
    {
      "cell_type": "code",
      "source": [
        "%cd /content\n",
        "!git clone https://github.com/PlayVoice/whisper-vits-svc.git\n",
        "%cd whisper-vits-svc"
      ],
      "metadata": {
        "colab": {
          "base_uri": "https://localhost:8080/"
        },
        "id": "0yzhzCHRIQk9",
        "outputId": "b62f9094-3577-4178-cfb3-0a544e17dc35"
      },
      "execution_count": 5,
      "outputs": [
        {
          "output_type": "stream",
          "name": "stdout",
          "text": [
            "/content\n",
            "Cloning into 'whisper-vits-svc'...\n",
            "remote: Enumerating objects: 2389, done.\u001b[K\n",
            "remote: Counting objects: 100% (1127/1127), done.\u001b[K\n",
            "remote: Compressing objects: 100% (413/413), done.\u001b[K\n",
            "remote: Total 2389 (delta 803), reused 901 (delta 711), pack-reused 1262\u001b[K\n",
            "Receiving objects: 100% (2389/2389), 42.35 MiB | 36.97 MiB/s, done.\n",
            "Resolving deltas: 100% (1343/1343), done.\n",
            "/content/whisper-vits-svc\n"
          ]
        }
      ]
    },
    {
      "cell_type": "code",
      "source": [
        "# Step 1: Install PyTorch if not already installed\n",
        "import torch\n",
        "\n",
        "# Step 2: Install project dependencies\n",
        "!pip install -i https://pypi.tuna.tsinghua.edu.cn/simple -r requirements.txt\n",
        "\n",
        "# Step 3: Download and place models in the correct directories\n",
        "\n",
        "# Timbre Encoder\n",
        "# !mkdir -p speaker_pretrain\n",
        "# !wget -O speaker_pretrain/best_model.pth.tar https://drive.google.com/uc?id=1UPjQ2LVSIt3o-9QMKMJcdzT8aZRZCI-E\n",
        "\n",
        "\n",
        "# Whisper Model\n",
        "!mkdir -p whisper_pretrain\n",
        "!wget -O whisper_pretrain/large-v2.pt https://openaipublic.azureedge.net/main/whisper/models/81f7c96c852ee8fc832187b0132e569d6c3065a3252ed18e56effd0b6a73e524/large-v2.pt\n",
        "\n",
        "# HuBERT Model\n",
        "!mkdir -p hubert_pretrain\n",
        "!wget -O hubert_pretrain/hubert-soft-0d54a1f4.pt https://github.com/bshall/hubert/releases/download/v0.1/hubert-soft-0d54a1f4.pt\n",
        "\n",
        "# Pitch Extractor\n",
        "!mkdir -p crepe/assets\n",
        "!wget -O crepe/assets/full.pth https://github.com/maxrmorrison/torchcrepe/raw/master/torchcrepe/assets/full.pth"
      ],
      "metadata": {
        "id": "nQtjVwZzHqwk"
      },
      "execution_count": null,
      "outputs": []
    },
    {
      "cell_type": "code",
      "source": [
        "!mkdir -p speaker_pretrain\n",
        "# !wget -O speaker_pretrain/best_model.pth.tar https://drive.google.com/uc?id=1UPjQ2LVSIt3o-9QMKMJcdzT8aZRZCI-E\n",
        "\n",
        "!pip install gdown\n",
        "!gdown --id 1UPjQ2LVSIt3o-9QMKMJcdzT8aZRZCI-E -O speaker_pretrain/best_model.pth.tar\n",
        "\n",
        "!file speaker_pretrain/best_model.pth.tar"
      ],
      "metadata": {
        "id": "HzH5PpO4n1lH"
      },
      "execution_count": null,
      "outputs": []
    },
    {
      "cell_type": "code",
      "source": [
        "# Pretrain Model\n",
        "!mkdir -p vits_pretrain\n",
        "!wget -O vits_pretrain/sovits5.0.pretrain.pth https://github.com/PlayVoice/whisper-vits-svc/releases/download/5.0/sovits5.0.pretrain.pth"
      ],
      "metadata": {
        "id": "g3A0_Pq5lPNL"
      },
      "execution_count": null,
      "outputs": []
    },
    {
      "cell_type": "code",
      "source": [
        "!python svc_inference.py --config configs/base.yaml --model ./vits_pretrain/sovits5.0.pretrain.pth --spk ./configs/singers/singer0001.npy --wave test.wav"
      ],
      "metadata": {
        "colab": {
          "base_uri": "https://localhost:8080/"
        },
        "id": "aUjRVJlsHAVI",
        "outputId": "fb810bc1-a2f4-4de0-b4b0-6b12954e37ee"
      },
      "execution_count": 9,
      "outputs": [
        {
          "output_type": "stream",
          "name": "stdout",
          "text": [
            "Auto run : python whisper/inference.py -w test.wav -p svc_tmp.ppg.npy\n",
            "test.wav\n",
            "svc_tmp.ppg.npy\n",
            "Auto run : python hubert/inference.py -w test.wav -v svc_tmp.vec.npy\n",
            "test.wav\n",
            "svc_tmp.vec.npy\n",
            "/usr/local/lib/python3.10/dist-packages/torch/nn/utils/weight_norm.py:28: UserWarning: torch.nn.utils.weight_norm is deprecated in favor of torch.nn.utils.parametrizations.weight_norm.\n",
            "  warnings.warn(\"torch.nn.utils.weight_norm is deprecated in favor of torch.nn.utils.parametrizations.weight_norm.\")\n",
            "Auto run : python pitch/inference.py -w test.wav -p svc_tmp.pit.csv\n",
            "test.wav\n",
            "svc_tmp.pit.csv\n",
            "/usr/local/lib/python3.10/dist-packages/torch/nn/modules/conv.py:456: UserWarning: Plan failed with a cudnnException: CUDNN_BACKEND_EXECUTION_PLAN_DESCRIPTOR: cudnnFinalize Descriptor Failed cudnn_status: CUDNN_STATUS_NOT_SUPPORTED (Triggered internally at ../aten/src/ATen/native/cudnn/Conv_v8.cpp:919.)\n",
            "  return F.conv2d(input, weight, bias, self.stride,\n",
            "/usr/local/lib/python3.10/dist-packages/torch/nn/modules/conv.py:456: UserWarning: Plan failed with a cudnnException: CUDNN_BACKEND_EXECUTION_PLAN_DESCRIPTOR: cudnnFinalize Descriptor Failed cudnn_status: CUDNN_STATUS_NOT_SUPPORTED (Triggered internally at ../aten/src/ATen/native/cudnn/Conv_v8.cpp:919.)\n",
            "  return F.conv2d(input, weight, bias, self.stride,\n",
            "/usr/local/lib/python3.10/dist-packages/torch/nn/utils/weight_norm.py:28: UserWarning: torch.nn.utils.weight_norm is deprecated in favor of torch.nn.utils.parametrizations.weight_norm.\n",
            "  warnings.warn(\"torch.nn.utils.weight_norm is deprecated in favor of torch.nn.utils.parametrizations.weight_norm.\")\n",
            "INFO:__main__:infer without retrival\n",
            "pitch shift:  0\n",
            "/usr/local/lib/python3.10/dist-packages/torch/nn/modules/conv.py:306: UserWarning: Plan failed with a cudnnException: CUDNN_BACKEND_EXECUTION_PLAN_DESCRIPTOR: cudnnFinalize Descriptor Failed cudnn_status: CUDNN_STATUS_NOT_SUPPORTED (Triggered internally at ../aten/src/ATen/native/cudnn/Conv_v8.cpp:919.)\n",
            "  return F.conv1d(input, weight, bias, self.stride,\n"
          ]
        }
      ]
    },
    {
      "cell_type": "markdown",
      "source": [
        "## Обучение модели"
      ],
      "metadata": {
        "id": "dxGHTHppS0qY"
      }
    },
    {
      "cell_type": "code",
      "source": [
        "!mv /content/dataset_raw /content/whisper-vits-svc\n",
        "%cd /content/whisper-vits-svc\n",
        "!python svc_preprocessing.py -t 2"
      ],
      "metadata": {
        "id": "4M0WTJg2XWWp"
      },
      "execution_count": null,
      "outputs": []
    },
    {
      "cell_type": "code",
      "source": [
        "# Ресэмплинг\n",
        "!python prepare/preprocess_a.py -w ./dataset_raw -o ./data_svc/waves-16k -s 16000\n",
        "!python prepare/preprocess_a.py -w ./dataset_raw -o ./data_svc/waves-32k -s 32000\n",
        "\n",
        "# Извлечение пичей\n",
        "!python prepare/preprocess_crepe.py -w data_svc/waves-16k/ -p data_svc/pitch\n",
        "\n",
        "# Извлечение PPG\n",
        "!python prepare/preprocess_ppg.py -w data_svc/waves-16k/ -p data_svc/whisper\n",
        "\n",
        "# Извлечение Hubert\n",
        "!python prepare/preprocess_hubert.py -w data_svc/waves-16k/ -v data_svc/hubert\n",
        "\n",
        "# Извлечение тембрового кода\n",
        "!python prepare/preprocess_speaker.py data_svc/waves-16k/ data_svc/speaker\n",
        "\n",
        "# Усреднение тембрового кода\n",
        "!python prepare/preprocess_speaker_ave.py data_svc/speaker/ data_svc/singer\n",
        "\n",
        "# Извлечение линейного спектра\n",
        "!python prepare/preprocess_spec.py -w data_svc/waves-32k/ -s data_svc/specs\n",
        "\n",
        "# Генерация тренировочного индекса\n",
        "!python prepare/preprocess_train.py\n",
        "\n",
        "# Отладка тренировочных файлов\n",
        "!python prepare/preprocess_zzz.py"
      ],
      "metadata": {
        "colab": {
          "base_uri": "https://localhost:8080/"
        },
        "id": "WVUxtb1fXeAd",
        "outputId": "29640471-dfba-45e4-ea77-97732818a384"
      },
      "execution_count": 11,
      "outputs": [
        {
          "output_type": "stream",
          "name": "stdout",
          "text": [
            "./dataset_raw\n",
            "./data_svc/waves-16k\n",
            "16000\n",
            "Processing 16000 skrip: 100% 72/72 [00:04<00:00, 17.95it/s]\n",
            "./dataset_raw\n",
            "./data_svc/waves-32k\n",
            "32000\n",
            "Processing 32000 skrip: 100% 72/72 [00:05<00:00, 13.00it/s]\n",
            "data_svc/waves-16k/\n",
            "data_svc/pitch\n",
            "Processing crepe skrip:   0% 0/72 [00:00<?, ?it/s]/usr/local/lib/python3.10/dist-packages/torch/nn/modules/conv.py:456: UserWarning: Plan failed with a cudnnException: CUDNN_BACKEND_EXECUTION_PLAN_DESCRIPTOR: cudnnFinalize Descriptor Failed cudnn_status: CUDNN_STATUS_NOT_SUPPORTED (Triggered internally at ../aten/src/ATen/native/cudnn/Conv_v8.cpp:919.)\n",
            "  return F.conv2d(input, weight, bias, self.stride,\n",
            "Processing crepe skrip: 100% 72/72 [03:21<00:00,  2.80s/it]\n",
            "data_svc/waves-16k/\n",
            "data_svc/whisper\n",
            "ModelDimensions(n_mels=80, n_audio_ctx=1500, n_audio_state=1280, n_audio_head=20, n_audio_layer=32, n_vocab=51865, n_text_ctx=448, n_text_state=1280, n_text_head=20, n_text_layer=32)\n",
            "Processing ppg skrip: 100% 72/72 [00:00<00:00, 203497.23it/s]\n",
            "data_svc/waves-16k/\n",
            "data_svc/hubert\n",
            "/usr/local/lib/python3.10/dist-packages/torch/nn/utils/weight_norm.py:28: UserWarning: torch.nn.utils.weight_norm is deprecated in favor of torch.nn.utils.parametrizations.weight_norm.\n",
            "  warnings.warn(\"torch.nn.utils.weight_norm is deprecated in favor of torch.nn.utils.parametrizations.weight_norm.\")\n",
            "Processing vec skrip: 100% 72/72 [00:06<00:00, 11.02it/s]\n",
            " > Setting up Audio Processor...\n",
            " | > sample_rate:16000\n",
            " | > resample:False\n",
            " | > num_mels:80\n",
            " | > log_func:np.log10\n",
            " | > min_level_db:-100\n",
            " | > frame_shift_ms:None\n",
            " | > frame_length_ms:None\n",
            " | > ref_level_db:20\n",
            " | > fft_size:1024\n",
            " | > power:1.5\n",
            " | > preemphasis:0.98\n",
            " | > griffin_lim_iters:60\n",
            " | > signal_norm:True\n",
            " | > symmetric_norm:True\n",
            " | > mel_fmin:0\n",
            " | > mel_fmax:8000.0\n",
            " | > spec_gain:20.0\n",
            " | > stft_pad_mode:reflect\n",
            " | > max_norm:4.0\n",
            " | > clip_norm:True\n",
            " | > do_trim_silence:True\n",
            " | > trim_db:60\n",
            " | > do_sound_norm:False\n",
            " | > do_amp_to_db_linear:True\n",
            " | > do_amp_to_db_mel:True\n",
            " | > stats_path:None\n",
            " | > base:10\n",
            " | > hop_length:256\n",
            " | > win_length:1024\n",
            "100% 72/72 [00:13<00:00,  5.31it/s]\n",
            "average skrip: 100% 72/72 [00:00<00:00, 2552.88it/s]\n",
            "data_svc/waves-32k/\n",
            "data_svc/specs\n",
            "Processing spec skrip:   0% 0/72 [00:00<?, ?it/s]/usr/local/lib/python3.10/dist-packages/torch/functional.py:665: UserWarning: stft with return_complex=False is deprecated. In a future pytorch release, stft will return complex tensors for all inputs, and return_complex=False will raise an error.\n",
            "Note: you can still call torch.view_as_real on the complex output to recover the old return format. (Triggered internally at ../aten/src/ATen/native/SpectralOps.cpp:873.)\n",
            "  return _VF.stft(input, n_fft, hop_length, win_length, window,  # type: ignore[attr-defined]\n",
            "Processing spec skrip: 100% 72/72 [00:04<00:00, 15.80it/s]\n",
            "././data_svc/waves-32k//skrip\n",
            "----------10----------\n",
            "100% 10/10 [00:00<00:00, 38.37it/s]\n",
            "100% 3/3 [00:00<00:00,  8.23it/s]\n"
          ]
        }
      ]
    },
    {
      "cell_type": "code",
      "source": [
        "current_path = '/content/whisper-vits-svc/vits_pretrain/sovits5.0.pretrain.pth'\n",
        "target_path = '/content/whisper-vits-svc/sovits5.0.pretrain.pth'\n",
        "\n",
        "!mv {current_path} {target_path}"
      ],
      "metadata": {
        "id": "u2AuUv4dcYPS"
      },
      "execution_count": 12,
      "outputs": []
    },
    {
      "cell_type": "code",
      "source": [
        "import yaml\n",
        "\n",
        "config_file_path = '/content/whisper-vits-svc/configs/base.yaml'\n",
        "\n",
        "new_pretrain_value = \"sovits5.0.pretrain.pth\"\n",
        "\n",
        "with open(config_file_path, 'r') as file:\n",
        "    config = yaml.safe_load(file)\n",
        "\n",
        "config['pretrain'] = new_pretrain_value\n",
        "config['train']['batch_size'] = 6\n",
        "config['train']['epochs'] = 50\n",
        "\n",
        "with open(config_file_path, 'w') as file:\n",
        "    yaml.dump(config, file)\n",
        "\n",
        "print(f\"Файл {config_file_path} успешно обновлен.\")"
      ],
      "metadata": {
        "colab": {
          "base_uri": "https://localhost:8080/"
        },
        "id": "vJ4OCiK5r7gZ",
        "outputId": "d4659e25-0e33-4053-a9a4-bb9cdaf9982e"
      },
      "execution_count": 14,
      "outputs": [
        {
          "output_type": "stream",
          "name": "stdout",
          "text": [
            "Файл /content/whisper-vits-svc/configs/base.yaml успешно обновлен.\n"
          ]
        }
      ]
    },
    {
      "cell_type": "code",
      "source": [
        "!python svc_trainer.py -c configs/base.yaml -n sovits5.0"
      ],
      "metadata": {
        "colab": {
          "base_uri": "https://localhost:8080/"
        },
        "id": "ugfAUoJ2stWk",
        "outputId": "9b6337b2-a2b5-4887-fea5-214c03e5d8dd"
      },
      "execution_count": 15,
      "outputs": [
        {
          "output_type": "stream",
          "name": "stdout",
          "text": [
            "2024-06-18 10:23:52.331659: E external/local_xla/xla/stream_executor/cuda/cuda_dnn.cc:9261] Unable to register cuDNN factory: Attempting to register factory for plugin cuDNN when one has already been registered\n",
            "2024-06-18 10:23:52.331708: E external/local_xla/xla/stream_executor/cuda/cuda_fft.cc:607] Unable to register cuFFT factory: Attempting to register factory for plugin cuFFT when one has already been registered\n",
            "2024-06-18 10:23:52.469788: E external/local_xla/xla/stream_executor/cuda/cuda_blas.cc:1515] Unable to register cuBLAS factory: Attempting to register factory for plugin cuBLAS when one has already been registered\n",
            "2024-06-18 10:23:52.730073: I tensorflow/core/platform/cpu_feature_guard.cc:182] This TensorFlow binary is optimized to use available CPU instructions in performance-critical operations.\n",
            "To enable the following instructions: AVX2 FMA, in other operations, rebuild TensorFlow with the appropriate compiler flags.\n",
            "2024-06-18 10:23:55.120046: W tensorflow/compiler/tf2tensorrt/utils/py_utils.cc:38] TF-TRT Warning: Could not find TensorRT\n",
            "Batch size per GPU : 6\n",
            "/usr/local/lib/python3.10/dist-packages/torch/nn/utils/weight_norm.py:28: UserWarning: torch.nn.utils.weight_norm is deprecated in favor of torch.nn.utils.parametrizations.weight_norm.\n",
            "  warnings.warn(\"torch.nn.utils.weight_norm is deprecated in favor of torch.nn.utils.parametrizations.weight_norm.\")\n",
            "----------10----------\n",
            "2024-06-18 10:24:03,119 - INFO - Starting new training run.\n",
            "----------60----------\n",
            "/usr/local/lib/python3.10/dist-packages/torch/utils/data/dataloader.py:558: UserWarning: This DataLoader will create 4 worker processes in total. Our suggested max number of worker in current system is 2, which is smaller than what this DataLoader is going to create. Please be aware that excessive worker creation might get DataLoader running slow or even freeze, lower the worker number to avoid potential slowness/freeze if necessary.\n",
            "  warnings.warn(_create_warning_msg(\n",
            "Validation loop:   0% 0/2 [00:00<?, ?it/s]/usr/lib/python3.10/multiprocessing/popen_fork.py:66: RuntimeWarning: os.fork() was called. os.fork() is incompatible with multithreaded code, and JAX is multithreaded, so this will likely lead to a deadlock.\n",
            "  self.pid = os.fork()\n",
            "/usr/local/lib/python3.10/dist-packages/torch/nn/modules/conv.py:306: UserWarning: Plan failed with a cudnnException: CUDNN_BACKEND_EXECUTION_PLAN_DESCRIPTOR: cudnnFinalize Descriptor Failed cudnn_status: CUDNN_STATUS_NOT_SUPPORTED (Triggered internally at ../aten/src/ATen/native/cudnn/Conv_v8.cpp:919.)\n",
            "  return F.conv1d(input, weight, bias, self.stride,\n",
            "/usr/local/lib/python3.10/dist-packages/torch/functional.py:665: UserWarning: stft with return_complex=False is deprecated. In a future pytorch release, stft will return complex tensors for all inputs, and return_complex=False will raise an error.\n",
            "Note: you can still call torch.view_as_real on the complex output to recover the old return format. (Triggered internally at ../aten/src/ATen/native/SpectralOps.cpp:873.)\n",
            "  return _VF.stft(input, n_fft, hop_length, win_length, window,  # type: ignore[attr-defined]\n",
            "Validation loop:  50% 1/2 [00:06<00:06,  6.02s/it]/usr/local/lib/python3.10/dist-packages/torch/nn/modules/conv.py:797: UserWarning: Plan failed with a cudnnException: CUDNN_BACKEND_EXECUTION_PLAN_DESCRIPTOR: cudnnFinalize Descriptor Failed cudnn_status: CUDNN_STATUS_NOT_SUPPORTED (Triggered internally at ../aten/src/ATen/native/cudnn/Conv_v8.cpp:919.)\n",
            "  return F.conv_transpose1d(\n",
            "Validation loop: 100% 2/2 [00:06<00:00,  3.47s/it]\n",
            "Loading train data:   0% 0/10 [00:00<?, ?it/s]/usr/local/lib/python3.10/dist-packages/torch/utils/data/dataloader.py:558: UserWarning: This DataLoader will create 4 worker processes in total. Our suggested max number of worker in current system is 2, which is smaller than what this DataLoader is going to create. Please be aware that excessive worker creation might get DataLoader running slow or even freeze, lower the worker number to avoid potential slowness/freeze if necessary.\n",
            "  warnings.warn(_create_warning_msg(\n",
            "/usr/lib/python3.10/multiprocessing/popen_fork.py:66: RuntimeWarning: os.fork() was called. os.fork() is incompatible with multithreaded code, and JAX is multithreaded, so this will likely lead to a deadlock.\n",
            "  self.pid = os.fork()\n",
            "/usr/local/lib/python3.10/dist-packages/torch/functional.py:665: UserWarning: A window was not provided. A rectangular window will be applied,which is known to cause spectral leakage. Other windows such as torch.hann_window or torch.hamming_window can are recommended to reduce spectral leakage.To suppress this warning and use a rectangular window, explicitly set `window=torch.ones(n_fft, device=<device>)`. (Triggered internally at ../aten/src/ATen/native/SpectralOps.cpp:836.)\n",
            "  return _VF.stft(input, n_fft, hop_length, win_length, window,  # type: ignore[attr-defined]\n",
            "Loading train data: 100% 10/10 [00:20<00:00,  2.07s/it]\n",
            "Validation loop: 100% 2/2 [00:03<00:00,  1.82s/it]\n",
            "Loading train data: 100% 10/10 [00:10<00:00,  1.07s/it]\n",
            "Validation loop: 100% 2/2 [00:03<00:00,  1.82s/it]\n",
            "Loading train data: 100% 10/10 [00:10<00:00,  1.06s/it]\n",
            "Validation loop: 100% 2/2 [00:03<00:00,  1.85s/it]\n",
            "Loading train data: 100% 10/10 [00:10<00:00,  1.06s/it]\n",
            "Validation loop: 100% 2/2 [00:03<00:00,  1.95s/it]\n",
            "Loading train data: 100% 10/10 [00:11<00:00,  1.17s/it]\n",
            "2024-06-18 10:25:31,473 - INFO - Saved checkpoint to: chkpt/sovits5.0/sovits5.0_0005.pt\n",
            "Validation loop: 100% 2/2 [00:03<00:00,  1.63s/it]\n",
            "Loading train data: 100% 10/10 [00:11<00:00,  1.13s/it]\n",
            "Validation loop: 100% 2/2 [00:03<00:00,  1.61s/it]\n",
            "Loading train data: 100% 10/10 [00:11<00:00,  1.10s/it]\n",
            "Validation loop: 100% 2/2 [00:03<00:00,  1.56s/it]\n",
            "Loading train data: 100% 10/10 [00:10<00:00,  1.07s/it]\n",
            "Validation loop: 100% 2/2 [00:03<00:00,  1.59s/it]\n",
            "Loading train data: 100% 10/10 [00:10<00:00,  1.08s/it]\n",
            "Validation loop: 100% 2/2 [00:03<00:00,  1.58s/it]\n",
            "Loading train data:  90% 9/10 [00:09<00:00,  1.03it/s]2024-06-18 10:26:41,823 - INFO - epoch 10 | g 26.9119 m 1.2086 s 21.5852 d 0.5641 k 1.6187 r 1.7774 i 0.2426 | step 100\n",
            "Loading train data: 100% 10/10 [00:10<00:00,  1.07s/it]\n",
            "2024-06-18 10:26:45,998 - INFO - Saved checkpoint to: chkpt/sovits5.0/sovits5.0_0010.pt\n",
            "Validation loop: 100% 2/2 [00:03<00:00,  1.64s/it]\n",
            "Loading train data: 100% 10/10 [00:11<00:00,  1.11s/it]\n",
            "Validation loop: 100% 2/2 [00:03<00:00,  1.61s/it]\n",
            "Loading train data: 100% 10/10 [00:11<00:00,  1.13s/it]\n",
            "Validation loop: 100% 2/2 [00:03<00:00,  1.64s/it]\n",
            "Loading train data: 100% 10/10 [00:11<00:00,  1.10s/it]\n",
            "Validation loop: 100% 2/2 [00:03<00:00,  1.90s/it]\n",
            "Loading train data: 100% 10/10 [00:11<00:00,  1.11s/it]\n",
            "Validation loop: 100% 2/2 [00:03<00:00,  1.64s/it]\n",
            "Loading train data: 100% 10/10 [00:10<00:00,  1.09s/it]\n",
            "2024-06-18 10:28:00,490 - INFO - Saved checkpoint to: chkpt/sovits5.0/sovits5.0_0015.pt\n",
            "Validation loop: 100% 2/2 [00:03<00:00,  1.67s/it]\n",
            "Loading train data: 100% 10/10 [00:11<00:00,  1.14s/it]\n",
            "Validation loop: 100% 2/2 [00:03<00:00,  1.58s/it]\n",
            "Loading train data: 100% 10/10 [00:11<00:00,  1.11s/it]\n",
            "Validation loop: 100% 2/2 [00:03<00:00,  1.62s/it]\n",
            "Loading train data: 100% 10/10 [00:11<00:00,  1.10s/it]\n",
            "Validation loop: 100% 2/2 [00:03<00:00,  1.65s/it]\n",
            "Loading train data: 100% 10/10 [00:10<00:00,  1.08s/it]\n",
            "Validation loop: 100% 2/2 [00:03<00:00,  1.61s/it]\n",
            "Loading train data:  90% 9/10 [00:09<00:00,  1.03it/s]2024-06-18 10:29:12,362 - INFO - epoch 20 | g 26.9719 m 1.3509 s 22.8283 d 0.4704 k 0.9928 r 0.9989 i 0.2519 | step 200\n",
            "Loading train data: 100% 10/10 [00:11<00:00,  1.14s/it]\n",
            "2024-06-18 10:29:17,857 - INFO - Saved checkpoint to: chkpt/sovits5.0/sovits5.0_0020.pt\n",
            "Validation loop: 100% 2/2 [00:03<00:00,  1.77s/it]\n",
            "Loading train data: 100% 10/10 [00:12<00:00,  1.26s/it]\n",
            "Validation loop: 100% 2/2 [00:03<00:00,  1.62s/it]\n",
            "Loading train data: 100% 10/10 [00:11<00:00,  1.11s/it]\n",
            "Validation loop: 100% 2/2 [00:03<00:00,  1.63s/it]\n",
            "Loading train data: 100% 10/10 [00:11<00:00,  1.12s/it]\n",
            "Validation loop: 100% 2/2 [00:03<00:00,  1.68s/it]\n",
            "Loading train data: 100% 10/10 [00:10<00:00,  1.08s/it]\n",
            "Validation loop: 100% 2/2 [00:03<00:00,  1.62s/it]\n",
            "Loading train data: 100% 10/10 [00:10<00:00,  1.09s/it]\n",
            "2024-06-18 10:30:35,358 - INFO - Saved checkpoint to: chkpt/sovits5.0/sovits5.0_0025.pt\n",
            "Validation loop: 100% 2/2 [00:03<00:00,  1.58s/it]\n",
            "Loading train data: 100% 10/10 [00:11<00:00,  1.15s/it]\n",
            "Validation loop: 100% 2/2 [00:03<00:00,  1.61s/it]\n",
            "Loading train data: 100% 10/10 [00:11<00:00,  1.12s/it]\n",
            "Validation loop: 100% 2/2 [00:03<00:00,  1.57s/it]\n",
            "Loading train data: 100% 10/10 [00:11<00:00,  1.12s/it]\n",
            "Validation loop: 100% 2/2 [00:03<00:00,  1.61s/it]\n",
            "Loading train data: 100% 10/10 [00:10<00:00,  1.10s/it]\n",
            "Validation loop: 100% 2/2 [00:03<00:00,  1.61s/it]\n",
            "Loading train data:  90% 9/10 [00:09<00:00,  1.03it/s]2024-06-18 10:31:46,814 - INFO - epoch 30 | g 25.2392 m 1.2263 s 21.5111 d 0.4847 k 0.7009 r 0.8929 i 0.2561 | step 300\n",
            "Loading train data: 100% 10/10 [00:10<00:00,  1.08s/it]\n",
            "2024-06-18 10:31:49,221 - INFO - Saved checkpoint to: chkpt/sovits5.0/sovits5.0_0030.pt\n",
            "Validation loop: 100% 2/2 [00:03<00:00,  1.59s/it]\n",
            "Loading train data: 100% 10/10 [00:11<00:00,  1.12s/it]\n",
            "Validation loop: 100% 2/2 [00:03<00:00,  1.57s/it]\n",
            "Loading train data: 100% 10/10 [00:10<00:00,  1.08s/it]\n",
            "Validation loop: 100% 2/2 [00:03<00:00,  1.89s/it]\n",
            "Loading train data: 100% 10/10 [00:11<00:00,  1.12s/it]\n",
            "Validation loop: 100% 2/2 [00:03<00:00,  1.65s/it]\n",
            "Loading train data: 100% 10/10 [00:11<00:00,  1.10s/it]\n",
            "Validation loop: 100% 2/2 [00:03<00:00,  1.65s/it]\n",
            "Loading train data: 100% 10/10 [00:10<00:00,  1.09s/it]\n",
            "2024-06-18 10:33:03,304 - INFO - Saved checkpoint to: chkpt/sovits5.0/sovits5.0_0035.pt\n",
            "Validation loop: 100% 2/2 [00:03<00:00,  1.71s/it]\n",
            "Loading train data: 100% 10/10 [00:11<00:00,  1.13s/it]\n",
            "Validation loop: 100% 2/2 [00:03<00:00,  1.55s/it]\n",
            "Loading train data: 100% 10/10 [00:11<00:00,  1.17s/it]\n",
            "Validation loop: 100% 2/2 [00:03<00:00,  1.61s/it]\n",
            "Loading train data: 100% 10/10 [00:10<00:00,  1.09s/it]\n",
            "Validation loop: 100% 2/2 [00:03<00:00,  1.62s/it]\n",
            "Loading train data: 100% 10/10 [00:10<00:00,  1.09s/it]\n",
            "Validation loop: 100% 2/2 [00:03<00:00,  1.91s/it]\n",
            "Loading train data:  90% 9/10 [00:09<00:00,  1.01it/s]2024-06-18 10:34:15,757 - INFO - epoch 40 | g 24.4126 m 1.0458 s 20.0800 d 0.3602 k 0.6842 r 0.8167 i 0.3483 | step 400\n",
            "Loading train data: 100% 10/10 [00:11<00:00,  1.11s/it]\n",
            "2024-06-18 10:34:22,750 - INFO - Saved checkpoint to: chkpt/sovits5.0/sovits5.0_0040.pt\n",
            "Validation loop: 100% 2/2 [00:03<00:00,  1.67s/it]\n",
            "Loading train data: 100% 10/10 [00:11<00:00,  1.18s/it]\n",
            "Validation loop: 100% 2/2 [00:03<00:00,  1.55s/it]\n",
            "Loading train data: 100% 10/10 [00:11<00:00,  1.12s/it]\n",
            "Validation loop: 100% 2/2 [00:03<00:00,  1.56s/it]\n",
            "Loading train data: 100% 10/10 [00:11<00:00,  1.12s/it]\n",
            "Validation loop: 100% 2/2 [00:03<00:00,  1.59s/it]\n",
            "Loading train data: 100% 10/10 [00:10<00:00,  1.10s/it]\n",
            "Validation loop: 100% 2/2 [00:03<00:00,  1.64s/it]\n",
            "Loading train data: 100% 10/10 [00:10<00:00,  1.08s/it]\n",
            "2024-06-18 10:35:37,057 - INFO - Saved checkpoint to: chkpt/sovits5.0/sovits5.0_0045.pt\n",
            "Validation loop: 100% 2/2 [00:03<00:00,  1.90s/it]\n",
            "Loading train data: 100% 10/10 [00:11<00:00,  1.12s/it]\n",
            "Validation loop: 100% 2/2 [00:03<00:00,  1.63s/it]\n",
            "Loading train data: 100% 10/10 [00:11<00:00,  1.12s/it]\n",
            "Validation loop: 100% 2/2 [00:03<00:00,  1.62s/it]\n",
            "Loading train data: 100% 10/10 [00:11<00:00,  1.10s/it]\n",
            "Validation loop: 100% 2/2 [00:03<00:00,  1.62s/it]\n",
            "Loading train data: 100% 10/10 [00:10<00:00,  1.09s/it]\n"
          ]
        }
      ]
    },
    {
      "cell_type": "code",
      "source": [
        "!python svc_trainer.py -c configs/base.yaml -n sovits5.0 -p chkpt/sovits5.0/sovits5.0_0045.pt"
      ],
      "metadata": {
        "colab": {
          "base_uri": "https://localhost:8080/"
        },
        "id": "2pfLraCjs-Vi",
        "outputId": "635af69a-a8df-4b1e-c448-c82bdcaf3df1"
      },
      "execution_count": 17,
      "outputs": [
        {
          "output_type": "stream",
          "name": "stdout",
          "text": [
            "2024-06-18 10:39:48.593483: E external/local_xla/xla/stream_executor/cuda/cuda_dnn.cc:9261] Unable to register cuDNN factory: Attempting to register factory for plugin cuDNN when one has already been registered\n",
            "2024-06-18 10:39:48.593537: E external/local_xla/xla/stream_executor/cuda/cuda_fft.cc:607] Unable to register cuFFT factory: Attempting to register factory for plugin cuFFT when one has already been registered\n",
            "2024-06-18 10:39:48.594872: E external/local_xla/xla/stream_executor/cuda/cuda_blas.cc:1515] Unable to register cuBLAS factory: Attempting to register factory for plugin cuBLAS when one has already been registered\n",
            "2024-06-18 10:39:48.602110: I tensorflow/core/platform/cpu_feature_guard.cc:182] This TensorFlow binary is optimized to use available CPU instructions in performance-critical operations.\n",
            "To enable the following instructions: AVX2 FMA, in other operations, rebuild TensorFlow with the appropriate compiler flags.\n",
            "2024-06-18 10:39:49.624002: W tensorflow/compiler/tf2tensorrt/utils/py_utils.cc:38] TF-TRT Warning: Could not find TensorRT\n",
            "Batch size per GPU : 6\n",
            "/usr/local/lib/python3.10/dist-packages/torch/nn/utils/weight_norm.py:28: UserWarning: torch.nn.utils.weight_norm is deprecated in favor of torch.nn.utils.parametrizations.weight_norm.\n",
            "  warnings.warn(\"torch.nn.utils.weight_norm is deprecated in favor of torch.nn.utils.parametrizations.weight_norm.\")\n",
            "----------10----------\n",
            "2024-06-18 10:39:55,312 - INFO - Resuming from checkpoint: chkpt/sovits5.0/sovits5.0_0045.pt\n",
            "----------60----------\n",
            "/usr/local/lib/python3.10/dist-packages/torch/utils/data/dataloader.py:558: UserWarning: This DataLoader will create 4 worker processes in total. Our suggested max number of worker in current system is 2, which is smaller than what this DataLoader is going to create. Please be aware that excessive worker creation might get DataLoader running slow or even freeze, lower the worker number to avoid potential slowness/freeze if necessary.\n",
            "  warnings.warn(_create_warning_msg(\n",
            "Validation loop:   0% 0/2 [00:00<?, ?it/s]/usr/lib/python3.10/multiprocessing/popen_fork.py:66: RuntimeWarning: os.fork() was called. os.fork() is incompatible with multithreaded code, and JAX is multithreaded, so this will likely lead to a deadlock.\n",
            "  self.pid = os.fork()\n",
            "/usr/local/lib/python3.10/dist-packages/torch/nn/modules/conv.py:306: UserWarning: Plan failed with a cudnnException: CUDNN_BACKEND_EXECUTION_PLAN_DESCRIPTOR: cudnnFinalize Descriptor Failed cudnn_status: CUDNN_STATUS_NOT_SUPPORTED (Triggered internally at ../aten/src/ATen/native/cudnn/Conv_v8.cpp:919.)\n",
            "  return F.conv1d(input, weight, bias, self.stride,\n",
            "/usr/local/lib/python3.10/dist-packages/torch/functional.py:665: UserWarning: stft with return_complex=False is deprecated. In a future pytorch release, stft will return complex tensors for all inputs, and return_complex=False will raise an error.\n",
            "Note: you can still call torch.view_as_real on the complex output to recover the old return format. (Triggered internally at ../aten/src/ATen/native/SpectralOps.cpp:873.)\n",
            "  return _VF.stft(input, n_fft, hop_length, win_length, window,  # type: ignore[attr-defined]\n",
            "Validation loop:  50% 1/2 [00:04<00:04,  4.41s/it]/usr/local/lib/python3.10/dist-packages/torch/nn/modules/conv.py:797: UserWarning: Plan failed with a cudnnException: CUDNN_BACKEND_EXECUTION_PLAN_DESCRIPTOR: cudnnFinalize Descriptor Failed cudnn_status: CUDNN_STATUS_NOT_SUPPORTED (Triggered internally at ../aten/src/ATen/native/cudnn/Conv_v8.cpp:919.)\n",
            "  return F.conv_transpose1d(\n",
            "Validation loop: 100% 2/2 [00:05<00:00,  2.68s/it]\n",
            "Loading train data:   0% 0/10 [00:00<?, ?it/s]/usr/local/lib/python3.10/dist-packages/torch/utils/data/dataloader.py:558: UserWarning: This DataLoader will create 4 worker processes in total. Our suggested max number of worker in current system is 2, which is smaller than what this DataLoader is going to create. Please be aware that excessive worker creation might get DataLoader running slow or even freeze, lower the worker number to avoid potential slowness/freeze if necessary.\n",
            "  warnings.warn(_create_warning_msg(\n",
            "/usr/lib/python3.10/multiprocessing/popen_fork.py:66: RuntimeWarning: os.fork() was called. os.fork() is incompatible with multithreaded code, and JAX is multithreaded, so this will likely lead to a deadlock.\n",
            "  self.pid = os.fork()\n",
            "/usr/local/lib/python3.10/dist-packages/torch/functional.py:665: UserWarning: A window was not provided. A rectangular window will be applied,which is known to cause spectral leakage. Other windows such as torch.hann_window or torch.hamming_window can are recommended to reduce spectral leakage.To suppress this warning and use a rectangular window, explicitly set `window=torch.ones(n_fft, device=<device>)`. (Triggered internally at ../aten/src/ATen/native/SpectralOps.cpp:836.)\n",
            "  return _VF.stft(input, n_fft, hop_length, win_length, window,  # type: ignore[attr-defined]\n",
            "Loading train data: 100% 10/10 [00:19<00:00,  1.95s/it]\n",
            "2024-06-18 10:40:23,890 - INFO - Saved checkpoint to: chkpt/sovits5.0/sovits5.0_0045.pt\n",
            "Validation loop: 100% 2/2 [00:03<00:00,  1.59s/it]\n",
            "Loading train data: 100% 10/10 [00:10<00:00,  1.10s/it]\n",
            "Validation loop: 100% 2/2 [00:03<00:00,  1.53s/it]\n",
            "Loading train data: 100% 10/10 [00:10<00:00,  1.06s/it]\n",
            "Validation loop: 100% 2/2 [00:03<00:00,  1.57s/it]\n",
            "Loading train data: 100% 10/10 [00:11<00:00,  1.15s/it]\n",
            "Validation loop: 100% 2/2 [00:03<00:00,  1.57s/it]\n",
            "Loading train data:  90% 9/10 [00:09<00:00,  1.04it/s]2024-06-18 10:41:20,610 - INFO - epoch 49 | g 24.2400 m 1.0597 s 20.1198 d 0.3650 k 0.5298 r 0.8049 i 0.3665 | step 500\n",
            "Loading train data: 100% 10/10 [00:11<00:00,  1.13s/it]\n"
          ]
        }
      ]
    },
    {
      "cell_type": "markdown",
      "source": [
        "## Инференс"
      ],
      "metadata": {
        "id": "muX8Jqq_y4FM"
      }
    },
    {
      "cell_type": "code",
      "source": [
        "!python svc_export.py --config configs/base.yaml --checkpoint_path chkpt/sovits5.0/sovits5.0_0045.pt"
      ],
      "metadata": {
        "colab": {
          "base_uri": "https://localhost:8080/"
        },
        "id": "5llKQCVcyura",
        "outputId": "e52fb3a1-b303-407f-fac3-9794afe0bd00"
      },
      "execution_count": 18,
      "outputs": [
        {
          "output_type": "stream",
          "name": "stdout",
          "text": [
            "/usr/local/lib/python3.10/dist-packages/torch/nn/utils/weight_norm.py:28: UserWarning: torch.nn.utils.weight_norm is deprecated in favor of torch.nn.utils.parametrizations.weight_norm.\n",
            "  warnings.warn(\"torch.nn.utils.weight_norm is deprecated in favor of torch.nn.utils.parametrizations.weight_norm.\")\n"
          ]
        }
      ]
    },
    {
      "cell_type": "code",
      "source": [
        "!python svc_inference.py --config configs/base.yaml --model sovits5.0.pth --spk ./data_svc/singer/skrip.spk.npy --wave test.wav --shift 0"
      ],
      "metadata": {
        "colab": {
          "base_uri": "https://localhost:8080/"
        },
        "id": "ClUIPAUfy9Od",
        "outputId": "ef9013ce-db0c-4362-d3fb-905992ce8b75"
      },
      "execution_count": 20,
      "outputs": [
        {
          "output_type": "stream",
          "name": "stdout",
          "text": [
            "Auto run : python whisper/inference.py -w test.wav -p svc_tmp.ppg.npy\n",
            "test.wav\n",
            "svc_tmp.ppg.npy\n",
            "Auto run : python hubert/inference.py -w test.wav -v svc_tmp.vec.npy\n",
            "test.wav\n",
            "svc_tmp.vec.npy\n",
            "/usr/local/lib/python3.10/dist-packages/torch/nn/utils/weight_norm.py:28: UserWarning: torch.nn.utils.weight_norm is deprecated in favor of torch.nn.utils.parametrizations.weight_norm.\n",
            "  warnings.warn(\"torch.nn.utils.weight_norm is deprecated in favor of torch.nn.utils.parametrizations.weight_norm.\")\n",
            "Auto run : python pitch/inference.py -w test.wav -p svc_tmp.pit.csv\n",
            "test.wav\n",
            "svc_tmp.pit.csv\n",
            "/usr/local/lib/python3.10/dist-packages/torch/nn/modules/conv.py:456: UserWarning: Plan failed with a cudnnException: CUDNN_BACKEND_EXECUTION_PLAN_DESCRIPTOR: cudnnFinalize Descriptor Failed cudnn_status: CUDNN_STATUS_NOT_SUPPORTED (Triggered internally at ../aten/src/ATen/native/cudnn/Conv_v8.cpp:919.)\n",
            "  return F.conv2d(input, weight, bias, self.stride,\n",
            "/usr/local/lib/python3.10/dist-packages/torch/nn/utils/weight_norm.py:28: UserWarning: torch.nn.utils.weight_norm is deprecated in favor of torch.nn.utils.parametrizations.weight_norm.\n",
            "  warnings.warn(\"torch.nn.utils.weight_norm is deprecated in favor of torch.nn.utils.parametrizations.weight_norm.\")\n",
            "INFO:__main__:infer without retrival\n",
            "pitch shift:  0\n",
            "/usr/local/lib/python3.10/dist-packages/torch/nn/modules/conv.py:306: UserWarning: Plan failed with a cudnnException: CUDNN_BACKEND_EXECUTION_PLAN_DESCRIPTOR: cudnnFinalize Descriptor Failed cudnn_status: CUDNN_STATUS_NOT_SUPPORTED (Triggered internally at ../aten/src/ATen/native/cudnn/Conv_v8.cpp:919.)\n",
            "  return F.conv1d(input, weight, bias, self.stride,\n"
          ]
        }
      ]
    }
  ]
}